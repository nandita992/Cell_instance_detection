{
  "nbformat": 4,
  "nbformat_minor": 0,
  "metadata": {
    "colab": {
      "provenance": [],
      "collapsed_sections": [],
      "include_colab_link": true
    },
    "kernelspec": {
      "name": "ir",
      "display_name": "R"
    }
  },
  "cells": [
    {
      "cell_type": "markdown",
      "metadata": {
        "id": "view-in-github",
        "colab_type": "text"
      },
      "source": [
        "<a href=\"https://colab.research.google.com/github/nandita992/Cell_instance_detection/blob/main/Copy_of_r_notebook.ipynb\" target=\"_parent\"><img src=\"https://colab.research.google.com/assets/colab-badge.svg\" alt=\"Open In Colab\"/></a>"
      ]
    },
    {
      "cell_type": "markdown",
      "metadata": {
        "id": "AtxyCnlCcAi1"
      },
      "source": [
        "# **Using native R on Google Colab**\n",
        "\n",
        "Chanin Nantasenamat\n",
        "\n",
        "<i>Data Professor YouTube channel, http://youtube.com/dataprofessor </i>\n",
        "\n",
        "In this Jupyter notebook, I will be showing you how to use native R right inside Google Colab.\n",
        "\n",
        "[Use R on Google Colab!](https://colab.research.google.com/notebook#create=true&language=r)"
      ]
    },
    {
      "cell_type": "markdown",
      "metadata": {
        "id": "1M8Wrd50Zyfr"
      },
      "source": [
        "## Installing libraries"
      ]
    },
    {
      "cell_type": "code",
      "metadata": {
        "id": "tg4XUaNygDBp",
        "outputId": "ed42b9c7-9214-41e4-e635-8f9fe19af9cb",
        "colab": {
          "base_uri": "https://localhost:8080/"
        }
      },
      "source": [
        "install.packages('dplyr')"
      ],
      "execution_count": null,
      "outputs": [
        {
          "output_type": "stream",
          "name": "stderr",
          "text": [
            "Installing package into ‘/usr/local/lib/R/site-library’\n",
            "(as ‘lib’ is unspecified)\n",
            "\n"
          ]
        }
      ]
    },
    {
      "cell_type": "code",
      "metadata": {
        "id": "g_5maO-eZt_n",
        "outputId": "293dec5e-2293-4c26-f760-d31a3a622b82",
        "colab": {
          "base_uri": "https://localhost:8080/"
        }
      },
      "source": [
        "install.packages('tidyverse')"
      ],
      "execution_count": null,
      "outputs": [
        {
          "output_type": "stream",
          "name": "stderr",
          "text": [
            "Installing package into ‘/usr/local/lib/R/site-library’\n",
            "(as ‘lib’ is unspecified)\n",
            "\n"
          ]
        }
      ]
    },
    {
      "cell_type": "code",
      "source": [
        "if (!require(\"BiocManager\", quietly = TRUE))\n",
        "    install.packages(\"BiocManager\")\n",
        "\n",
        "BiocManager::install(\"GEOquery\")"
      ],
      "metadata": {
        "colab": {
          "base_uri": "https://localhost:8080/"
        },
        "id": "QxoSlpvMcAFz",
        "outputId": "de93cec5-528f-4e0e-8c9c-77437817d969"
      },
      "execution_count": null,
      "outputs": [
        {
          "output_type": "stream",
          "name": "stderr",
          "text": [
            "'getOption(\"repos\")' replaces Bioconductor standard repositories, see\n",
            "'?repositories' for details\n",
            "\n",
            "replacement repositories:\n",
            "    CRAN: https://cran.rstudio.com\n",
            "\n",
            "\n",
            "Bioconductor version 3.15 (BiocManager 1.30.18), R 4.2.1 (2022-06-23)\n",
            "\n",
            "Warning message:\n",
            "“package(s) not installed when version(s) same as current; use `force = TRUE` to\n",
            "  re-install: 'GEOquery'”\n",
            "Old packages: 'broom', 'devtools', 'dplyr', 'gert', 'gtable', 'rlang',\n",
            "  'roxygen2', 'rversions', 'tibble', 'tidyverse'\n",
            "\n"
          ]
        }
      ]
    },
    {
      "cell_type": "code",
      "source": [
        "install.packages(\"ggplot2\")"
      ],
      "metadata": {
        "id": "1iiZuRewlGm6",
        "outputId": "b3f4e144-f2dd-4afa-f257-f381b8242689",
        "colab": {
          "base_uri": "https://localhost:8080/"
        }
      },
      "execution_count": null,
      "outputs": [
        {
          "output_type": "stream",
          "name": "stderr",
          "text": [
            "Installing package into ‘/usr/local/lib/R/site-library’\n",
            "(as ‘lib’ is unspecified)\n",
            "\n"
          ]
        }
      ]
    },
    {
      "cell_type": "markdown",
      "metadata": {
        "id": "RZ1-XnpzZ1uA"
      },
      "source": [
        "## Importing libraries"
      ]
    },
    {
      "cell_type": "code",
      "metadata": {
        "id": "H6opECZygIYB"
      },
      "source": [
        "library(dplyr)"
      ],
      "execution_count": null,
      "outputs": []
    },
    {
      "cell_type": "code",
      "metadata": {
        "id": "0FThma96hDGu"
      },
      "source": [
        "library(tidyverse)"
      ],
      "execution_count": null,
      "outputs": []
    },
    {
      "cell_type": "code",
      "metadata": {
        "id": "2xwKBBtBZq0i"
      },
      "source": [
        "library(GEOquery)"
      ],
      "execution_count": null,
      "outputs": []
    },
    {
      "cell_type": "code",
      "source": [
        "library(ggplot2)"
      ],
      "metadata": {
        "id": "d8LmQY8ZlVkw"
      },
      "execution_count": null,
      "outputs": []
    },
    {
      "cell_type": "markdown",
      "metadata": {
        "id": "75lo2yDzbHJI"
      },
      "source": [
        "## Read the Data"
      ]
    },
    {
      "cell_type": "code",
      "metadata": {
        "id": "6mQwtgVtYfDp",
        "outputId": "489173b5-9a5e-4856-d541-a7c648dd002c",
        "colab": {
          "base_uri": "https://localhost:8080/",
          "height": 34
        }
      },
      "source": [
        "# The table has 13181 rows and 61 columns\n",
        "dat <- read.csv(file = \"/content/GSE183947_fpkm.csv\")\n",
        "dim(dat)"
      ],
      "execution_count": null,
      "outputs": [
        {
          "output_type": "display_data",
          "data": {
            "text/html": [
              "<style>\n",
              ".list-inline {list-style: none; margin:0; padding: 0}\n",
              ".list-inline>li {display: inline-block}\n",
              ".list-inline>li:not(:last-child)::after {content: \"\\00b7\"; padding: 0 .5ex}\n",
              "</style>\n",
              "<ol class=list-inline><li>20246</li><li>61</li></ol>\n"
            ],
            "text/markdown": "1. 20246\n2. 61\n\n\n",
            "text/latex": "\\begin{enumerate*}\n\\item 20246\n\\item 61\n\\end{enumerate*}\n",
            "text/plain": [
              "[1] 20246    61"
            ]
          },
          "metadata": {}
        }
      ]
    },
    {
      "cell_type": "code",
      "source": [
        "# Get Metadata\n",
        "# We need to get additional data as which sample/colum is associated with the cancer and which is not.\n",
        "gse <- getGEO(GEO = 'GSE183947', GSEMatrix = TRUE)\n",
        "gse"
      ],
      "metadata": {
        "id": "GJVlmlildQsK",
        "outputId": "0648ba5f-12a4-4d64-c9dd-b68d8acc6f3a",
        "colab": {
          "base_uri": "https://localhost:8080/",
          "height": 410
        }
      },
      "execution_count": null,
      "outputs": [
        {
          "output_type": "stream",
          "name": "stderr",
          "text": [
            "Found 1 file(s)\n",
            "\n",
            "GSE183947_series_matrix.txt.gz\n",
            "\n",
            "Using locally cached version: /tmp/RtmpgTx1Ys/GSE183947_series_matrix.txt.gz\n",
            "\n",
            "Using locally cached version of GPL11154 found here:\n",
            "/tmp/RtmpgTx1Ys/GPL11154.soft.gz \n",
            "\n"
          ]
        },
        {
          "output_type": "display_data",
          "data": {
            "text/plain": [
              "$GSE183947_series_matrix.txt.gz\n",
              "ExpressionSet (storageMode: lockedEnvironment)\n",
              "assayData: 0 features, 60 samples \n",
              "  element names: exprs \n",
              "protocolData: none\n",
              "phenoData\n",
              "  sampleNames: GSM5574685 GSM5574686 ... GSM5574744 (60 total)\n",
              "  varLabels: title geo_accession ... tissue:ch1 (41 total)\n",
              "  varMetadata: labelDescription\n",
              "featureData: none\n",
              "experimentData: use 'experimentData(object)'\n",
              "  pubMedIds: 35046993 \n",
              "Annotation: GPL11154 \n"
            ]
          },
          "metadata": {}
        }
      ]
    },
    {
      "cell_type": "code",
      "metadata": {
        "id": "wC5G278gYgnh",
        "colab": {
          "base_uri": "https://localhost:8080/",
          "height": 619
        },
        "outputId": "a6e48b82-5afe-4bd3-b9a5-24be9ac8718a"
      },
      "source": [
        "metadata <- pData(phenoData(gse[[1]]))\n",
        "head(metadata)"
      ],
      "execution_count": null,
      "outputs": [
        {
          "output_type": "display_data",
          "data": {
            "text/html": [
              "<table class=\"dataframe\">\n",
              "<caption>A data.frame: 6 × 41</caption>\n",
              "<thead>\n",
              "\t<tr><th></th><th scope=col>title</th><th scope=col>geo_accession</th><th scope=col>status</th><th scope=col>submission_date</th><th scope=col>last_update_date</th><th scope=col>type</th><th scope=col>channel_count</th><th scope=col>source_name_ch1</th><th scope=col>organism_ch1</th><th scope=col>characteristics_ch1</th><th scope=col>⋯</th><th scope=col>instrument_model</th><th scope=col>library_selection</th><th scope=col>library_source</th><th scope=col>library_strategy</th><th scope=col>relation</th><th scope=col>relation.1</th><th scope=col>supplementary_file_1</th><th scope=col>donor:ch1</th><th scope=col>metastasis:ch1</th><th scope=col>tissue:ch1</th></tr>\n",
              "\t<tr><th></th><th scope=col>&lt;chr&gt;</th><th scope=col>&lt;chr&gt;</th><th scope=col>&lt;chr&gt;</th><th scope=col>&lt;chr&gt;</th><th scope=col>&lt;chr&gt;</th><th scope=col>&lt;chr&gt;</th><th scope=col>&lt;chr&gt;</th><th scope=col>&lt;chr&gt;</th><th scope=col>&lt;chr&gt;</th><th scope=col>&lt;chr&gt;</th><th scope=col>⋯</th><th scope=col>&lt;chr&gt;</th><th scope=col>&lt;chr&gt;</th><th scope=col>&lt;chr&gt;</th><th scope=col>&lt;chr&gt;</th><th scope=col>&lt;chr&gt;</th><th scope=col>&lt;chr&gt;</th><th scope=col>&lt;chr&gt;</th><th scope=col>&lt;chr&gt;</th><th scope=col>&lt;chr&gt;</th><th scope=col>&lt;chr&gt;</th></tr>\n",
              "</thead>\n",
              "<tbody>\n",
              "\t<tr><th scope=row>GSM5574685</th><td>tumor rep1</td><td>GSM5574685</td><td>Public on Sep 15 2021</td><td>Sep 11 2021</td><td>Sep 15 2021</td><td>SRA</td><td>1</td><td>breast</td><td>Homo sapiens</td><td>tissue: breast tumor</td><td>⋯</td><td>Illumina HiSeq 2000</td><td>cDNA</td><td>transcriptomic</td><td>RNA-Seq</td><td>BioSample: https://www.ncbi.nlm.nih.gov/biosample/SAMN21395376</td><td>SRA: https://www.ncbi.nlm.nih.gov/sra?term=SRX12143676</td><td>NONE</td><td>102548 </td><td>yes</td><td>breast tumor</td></tr>\n",
              "\t<tr><th scope=row>GSM5574686</th><td>tumor rep2</td><td>GSM5574686</td><td>Public on Sep 15 2021</td><td>Sep 11 2021</td><td>Sep 15 2021</td><td>SRA</td><td>1</td><td>breast</td><td>Homo sapiens</td><td>tissue: breast tumor</td><td>⋯</td><td>Illumina HiSeq 2000</td><td>cDNA</td><td>transcriptomic</td><td>RNA-Seq</td><td>BioSample: https://www.ncbi.nlm.nih.gov/biosample/SAMN21395377</td><td>SRA: https://www.ncbi.nlm.nih.gov/sra?term=SRX12143617</td><td>NONE</td><td>104338 </td><td>yes</td><td>breast tumor</td></tr>\n",
              "\t<tr><th scope=row>GSM5574687</th><td>tumor rep3</td><td>GSM5574687</td><td>Public on Sep 15 2021</td><td>Sep 11 2021</td><td>Sep 15 2021</td><td>SRA</td><td>1</td><td>breast</td><td>Homo sapiens</td><td>tissue: breast tumor</td><td>⋯</td><td>Illumina HiSeq 2000</td><td>cDNA</td><td>transcriptomic</td><td>RNA-Seq</td><td>BioSample: https://www.ncbi.nlm.nih.gov/biosample/SAMN21395378</td><td>SRA: https://www.ncbi.nlm.nih.gov/sra?term=SRX12143618</td><td>NONE</td><td>105094 </td><td>yes</td><td>breast tumor</td></tr>\n",
              "\t<tr><th scope=row>GSM5574688</th><td>tumor rep4</td><td>GSM5574688</td><td>Public on Sep 15 2021</td><td>Sep 11 2021</td><td>Sep 15 2021</td><td>SRA</td><td>1</td><td>breast</td><td>Homo sapiens</td><td>tissue: breast tumor</td><td>⋯</td><td>Illumina HiSeq 2000</td><td>cDNA</td><td>transcriptomic</td><td>RNA-Seq</td><td>BioSample: https://www.ncbi.nlm.nih.gov/biosample/SAMN21395379</td><td>SRA: https://www.ncbi.nlm.nih.gov/sra?term=SRX12143619</td><td>NONE</td><td>109745 </td><td>no </td><td>breast tumor</td></tr>\n",
              "\t<tr><th scope=row>GSM5574689</th><td>tumor rep5</td><td>GSM5574689</td><td>Public on Sep 15 2021</td><td>Sep 11 2021</td><td>Sep 15 2021</td><td>SRA</td><td>1</td><td>breast</td><td>Homo sapiens</td><td>tissue: breast tumor</td><td>⋯</td><td>Illumina HiSeq 2000</td><td>cDNA</td><td>transcriptomic</td><td>RNA-Seq</td><td>BioSample: https://www.ncbi.nlm.nih.gov/biosample/SAMN21394912</td><td>SRA: https://www.ncbi.nlm.nih.gov/sra?term=SRX12143620</td><td>NONE</td><td>1906415</td><td>no </td><td>breast tumor</td></tr>\n",
              "\t<tr><th scope=row>GSM5574690</th><td>tumor rep6</td><td>GSM5574690</td><td>Public on Sep 15 2021</td><td>Sep 11 2021</td><td>Sep 15 2021</td><td>SRA</td><td>1</td><td>breast</td><td>Homo sapiens</td><td>tissue: breast tumor</td><td>⋯</td><td>Illumina HiSeq 2000</td><td>cDNA</td><td>transcriptomic</td><td>RNA-Seq</td><td>BioSample: https://www.ncbi.nlm.nih.gov/biosample/SAMN21394913</td><td>SRA: https://www.ncbi.nlm.nih.gov/sra?term=SRX12143621</td><td>NONE</td><td>1912627</td><td>yes</td><td>breast tumor</td></tr>\n",
              "</tbody>\n",
              "</table>\n"
            ],
            "text/markdown": "\nA data.frame: 6 × 41\n\n| <!--/--> | title &lt;chr&gt; | geo_accession &lt;chr&gt; | status &lt;chr&gt; | submission_date &lt;chr&gt; | last_update_date &lt;chr&gt; | type &lt;chr&gt; | channel_count &lt;chr&gt; | source_name_ch1 &lt;chr&gt; | organism_ch1 &lt;chr&gt; | characteristics_ch1 &lt;chr&gt; | ⋯ ⋯ | instrument_model &lt;chr&gt; | library_selection &lt;chr&gt; | library_source &lt;chr&gt; | library_strategy &lt;chr&gt; | relation &lt;chr&gt; | relation.1 &lt;chr&gt; | supplementary_file_1 &lt;chr&gt; | donor:ch1 &lt;chr&gt; | metastasis:ch1 &lt;chr&gt; | tissue:ch1 &lt;chr&gt; |\n|---|---|---|---|---|---|---|---|---|---|---|---|---|---|---|---|---|---|---|---|---|---|\n| GSM5574685 | tumor rep1 | GSM5574685 | Public on Sep 15 2021 | Sep 11 2021 | Sep 15 2021 | SRA | 1 | breast | Homo sapiens | tissue: breast tumor | ⋯ | Illumina HiSeq 2000 | cDNA | transcriptomic | RNA-Seq | BioSample: https://www.ncbi.nlm.nih.gov/biosample/SAMN21395376 | SRA: https://www.ncbi.nlm.nih.gov/sra?term=SRX12143676 | NONE | 102548  | yes | breast tumor |\n| GSM5574686 | tumor rep2 | GSM5574686 | Public on Sep 15 2021 | Sep 11 2021 | Sep 15 2021 | SRA | 1 | breast | Homo sapiens | tissue: breast tumor | ⋯ | Illumina HiSeq 2000 | cDNA | transcriptomic | RNA-Seq | BioSample: https://www.ncbi.nlm.nih.gov/biosample/SAMN21395377 | SRA: https://www.ncbi.nlm.nih.gov/sra?term=SRX12143617 | NONE | 104338  | yes | breast tumor |\n| GSM5574687 | tumor rep3 | GSM5574687 | Public on Sep 15 2021 | Sep 11 2021 | Sep 15 2021 | SRA | 1 | breast | Homo sapiens | tissue: breast tumor | ⋯ | Illumina HiSeq 2000 | cDNA | transcriptomic | RNA-Seq | BioSample: https://www.ncbi.nlm.nih.gov/biosample/SAMN21395378 | SRA: https://www.ncbi.nlm.nih.gov/sra?term=SRX12143618 | NONE | 105094  | yes | breast tumor |\n| GSM5574688 | tumor rep4 | GSM5574688 | Public on Sep 15 2021 | Sep 11 2021 | Sep 15 2021 | SRA | 1 | breast | Homo sapiens | tissue: breast tumor | ⋯ | Illumina HiSeq 2000 | cDNA | transcriptomic | RNA-Seq | BioSample: https://www.ncbi.nlm.nih.gov/biosample/SAMN21395379 | SRA: https://www.ncbi.nlm.nih.gov/sra?term=SRX12143619 | NONE | 109745  | no  | breast tumor |\n| GSM5574689 | tumor rep5 | GSM5574689 | Public on Sep 15 2021 | Sep 11 2021 | Sep 15 2021 | SRA | 1 | breast | Homo sapiens | tissue: breast tumor | ⋯ | Illumina HiSeq 2000 | cDNA | transcriptomic | RNA-Seq | BioSample: https://www.ncbi.nlm.nih.gov/biosample/SAMN21394912 | SRA: https://www.ncbi.nlm.nih.gov/sra?term=SRX12143620 | NONE | 1906415 | no  | breast tumor |\n| GSM5574690 | tumor rep6 | GSM5574690 | Public on Sep 15 2021 | Sep 11 2021 | Sep 15 2021 | SRA | 1 | breast | Homo sapiens | tissue: breast tumor | ⋯ | Illumina HiSeq 2000 | cDNA | transcriptomic | RNA-Seq | BioSample: https://www.ncbi.nlm.nih.gov/biosample/SAMN21394913 | SRA: https://www.ncbi.nlm.nih.gov/sra?term=SRX12143621 | NONE | 1912627 | yes | breast tumor |\n\n",
            "text/latex": "A data.frame: 6 × 41\n\\begin{tabular}{r|lllllllllllllllllllll}\n  & title & geo\\_accession & status & submission\\_date & last\\_update\\_date & type & channel\\_count & source\\_name\\_ch1 & organism\\_ch1 & characteristics\\_ch1 & ⋯ & instrument\\_model & library\\_selection & library\\_source & library\\_strategy & relation & relation.1 & supplementary\\_file\\_1 & donor:ch1 & metastasis:ch1 & tissue:ch1\\\\\n  & <chr> & <chr> & <chr> & <chr> & <chr> & <chr> & <chr> & <chr> & <chr> & <chr> & ⋯ & <chr> & <chr> & <chr> & <chr> & <chr> & <chr> & <chr> & <chr> & <chr> & <chr>\\\\\n\\hline\n\tGSM5574685 & tumor rep1 & GSM5574685 & Public on Sep 15 2021 & Sep 11 2021 & Sep 15 2021 & SRA & 1 & breast & Homo sapiens & tissue: breast tumor & ⋯ & Illumina HiSeq 2000 & cDNA & transcriptomic & RNA-Seq & BioSample: https://www.ncbi.nlm.nih.gov/biosample/SAMN21395376 & SRA: https://www.ncbi.nlm.nih.gov/sra?term=SRX12143676 & NONE & 102548  & yes & breast tumor\\\\\n\tGSM5574686 & tumor rep2 & GSM5574686 & Public on Sep 15 2021 & Sep 11 2021 & Sep 15 2021 & SRA & 1 & breast & Homo sapiens & tissue: breast tumor & ⋯ & Illumina HiSeq 2000 & cDNA & transcriptomic & RNA-Seq & BioSample: https://www.ncbi.nlm.nih.gov/biosample/SAMN21395377 & SRA: https://www.ncbi.nlm.nih.gov/sra?term=SRX12143617 & NONE & 104338  & yes & breast tumor\\\\\n\tGSM5574687 & tumor rep3 & GSM5574687 & Public on Sep 15 2021 & Sep 11 2021 & Sep 15 2021 & SRA & 1 & breast & Homo sapiens & tissue: breast tumor & ⋯ & Illumina HiSeq 2000 & cDNA & transcriptomic & RNA-Seq & BioSample: https://www.ncbi.nlm.nih.gov/biosample/SAMN21395378 & SRA: https://www.ncbi.nlm.nih.gov/sra?term=SRX12143618 & NONE & 105094  & yes & breast tumor\\\\\n\tGSM5574688 & tumor rep4 & GSM5574688 & Public on Sep 15 2021 & Sep 11 2021 & Sep 15 2021 & SRA & 1 & breast & Homo sapiens & tissue: breast tumor & ⋯ & Illumina HiSeq 2000 & cDNA & transcriptomic & RNA-Seq & BioSample: https://www.ncbi.nlm.nih.gov/biosample/SAMN21395379 & SRA: https://www.ncbi.nlm.nih.gov/sra?term=SRX12143619 & NONE & 109745  & no  & breast tumor\\\\\n\tGSM5574689 & tumor rep5 & GSM5574689 & Public on Sep 15 2021 & Sep 11 2021 & Sep 15 2021 & SRA & 1 & breast & Homo sapiens & tissue: breast tumor & ⋯ & Illumina HiSeq 2000 & cDNA & transcriptomic & RNA-Seq & BioSample: https://www.ncbi.nlm.nih.gov/biosample/SAMN21394912 & SRA: https://www.ncbi.nlm.nih.gov/sra?term=SRX12143620 & NONE & 1906415 & no  & breast tumor\\\\\n\tGSM5574690 & tumor rep6 & GSM5574690 & Public on Sep 15 2021 & Sep 11 2021 & Sep 15 2021 & SRA & 1 & breast & Homo sapiens & tissue: breast tumor & ⋯ & Illumina HiSeq 2000 & cDNA & transcriptomic & RNA-Seq & BioSample: https://www.ncbi.nlm.nih.gov/biosample/SAMN21394913 & SRA: https://www.ncbi.nlm.nih.gov/sra?term=SRX12143621 & NONE & 1912627 & yes & breast tumor\\\\\n\\end{tabular}\n",
            "text/plain": [
              "           title      geo_accession status                submission_date\n",
              "GSM5574685 tumor rep1 GSM5574685    Public on Sep 15 2021 Sep 11 2021    \n",
              "GSM5574686 tumor rep2 GSM5574686    Public on Sep 15 2021 Sep 11 2021    \n",
              "GSM5574687 tumor rep3 GSM5574687    Public on Sep 15 2021 Sep 11 2021    \n",
              "GSM5574688 tumor rep4 GSM5574688    Public on Sep 15 2021 Sep 11 2021    \n",
              "GSM5574689 tumor rep5 GSM5574689    Public on Sep 15 2021 Sep 11 2021    \n",
              "GSM5574690 tumor rep6 GSM5574690    Public on Sep 15 2021 Sep 11 2021    \n",
              "           last_update_date type channel_count source_name_ch1 organism_ch1\n",
              "GSM5574685 Sep 15 2021      SRA  1             breast          Homo sapiens\n",
              "GSM5574686 Sep 15 2021      SRA  1             breast          Homo sapiens\n",
              "GSM5574687 Sep 15 2021      SRA  1             breast          Homo sapiens\n",
              "GSM5574688 Sep 15 2021      SRA  1             breast          Homo sapiens\n",
              "GSM5574689 Sep 15 2021      SRA  1             breast          Homo sapiens\n",
              "GSM5574690 Sep 15 2021      SRA  1             breast          Homo sapiens\n",
              "           characteristics_ch1  ⋯ instrument_model    library_selection\n",
              "GSM5574685 tissue: breast tumor ⋯ Illumina HiSeq 2000 cDNA             \n",
              "GSM5574686 tissue: breast tumor ⋯ Illumina HiSeq 2000 cDNA             \n",
              "GSM5574687 tissue: breast tumor ⋯ Illumina HiSeq 2000 cDNA             \n",
              "GSM5574688 tissue: breast tumor ⋯ Illumina HiSeq 2000 cDNA             \n",
              "GSM5574689 tissue: breast tumor ⋯ Illumina HiSeq 2000 cDNA             \n",
              "GSM5574690 tissue: breast tumor ⋯ Illumina HiSeq 2000 cDNA             \n",
              "           library_source library_strategy\n",
              "GSM5574685 transcriptomic RNA-Seq         \n",
              "GSM5574686 transcriptomic RNA-Seq         \n",
              "GSM5574687 transcriptomic RNA-Seq         \n",
              "GSM5574688 transcriptomic RNA-Seq         \n",
              "GSM5574689 transcriptomic RNA-Seq         \n",
              "GSM5574690 transcriptomic RNA-Seq         \n",
              "           relation                                                      \n",
              "GSM5574685 BioSample: https://www.ncbi.nlm.nih.gov/biosample/SAMN21395376\n",
              "GSM5574686 BioSample: https://www.ncbi.nlm.nih.gov/biosample/SAMN21395377\n",
              "GSM5574687 BioSample: https://www.ncbi.nlm.nih.gov/biosample/SAMN21395378\n",
              "GSM5574688 BioSample: https://www.ncbi.nlm.nih.gov/biosample/SAMN21395379\n",
              "GSM5574689 BioSample: https://www.ncbi.nlm.nih.gov/biosample/SAMN21394912\n",
              "GSM5574690 BioSample: https://www.ncbi.nlm.nih.gov/biosample/SAMN21394913\n",
              "           relation.1                                            \n",
              "GSM5574685 SRA: https://www.ncbi.nlm.nih.gov/sra?term=SRX12143676\n",
              "GSM5574686 SRA: https://www.ncbi.nlm.nih.gov/sra?term=SRX12143617\n",
              "GSM5574687 SRA: https://www.ncbi.nlm.nih.gov/sra?term=SRX12143618\n",
              "GSM5574688 SRA: https://www.ncbi.nlm.nih.gov/sra?term=SRX12143619\n",
              "GSM5574689 SRA: https://www.ncbi.nlm.nih.gov/sra?term=SRX12143620\n",
              "GSM5574690 SRA: https://www.ncbi.nlm.nih.gov/sra?term=SRX12143621\n",
              "           supplementary_file_1 donor:ch1 metastasis:ch1 tissue:ch1  \n",
              "GSM5574685 NONE                 102548    yes            breast tumor\n",
              "GSM5574686 NONE                 104338    yes            breast tumor\n",
              "GSM5574687 NONE                 105094    yes            breast tumor\n",
              "GSM5574688 NONE                 109745    no             breast tumor\n",
              "GSM5574689 NONE                 1906415   no             breast tumor\n",
              "GSM5574690 NONE                 1912627   yes            breast tumor"
            ]
          },
          "metadata": {}
        }
      ]
    },
    {
      "cell_type": "code",
      "source": [
        "# It has 60 rows and 4o columns. We only require few columns. \n",
        "dim(metadata)"
      ],
      "metadata": {
        "id": "6yQqD_nAeQLn",
        "outputId": "e798375b-cf14-4e31-8009-5a4553bbd515",
        "colab": {
          "base_uri": "https://localhost:8080/",
          "height": 34
        }
      },
      "execution_count": null,
      "outputs": [
        {
          "output_type": "display_data",
          "data": {
            "text/html": [
              "<style>\n",
              ".list-inline {list-style: none; margin:0; padding: 0}\n",
              ".list-inline>li {display: inline-block}\n",
              ".list-inline>li:not(:last-child)::after {content: \"\\00b7\"; padding: 0 .5ex}\n",
              "</style>\n",
              "<ol class=list-inline><li>60</li><li>41</li></ol>\n"
            ],
            "text/markdown": "1. 60\n2. 41\n\n\n",
            "text/latex": "\\begin{enumerate*}\n\\item 60\n\\item 41\n\\end{enumerate*}\n",
            "text/plain": [
              "[1] 60 41"
            ]
          },
          "metadata": {}
        }
      ]
    },
    {
      "cell_type": "code",
      "source": [
        "# Subset the data \n",
        "metadata.subset<-select(metadata, c(1,10,11,17))\n",
        "head(metadata.subset)"
      ],
      "metadata": {
        "id": "C1tKbnFGepkT",
        "outputId": "9ddeb339-ca00-4e7d-c14d-316d4473b316",
        "colab": {
          "base_uri": "https://localhost:8080/",
          "height": 286
        }
      },
      "execution_count": null,
      "outputs": [
        {
          "output_type": "display_data",
          "data": {
            "text/html": [
              "<table class=\"dataframe\">\n",
              "<caption>A data.frame: 6 × 4</caption>\n",
              "<thead>\n",
              "\t<tr><th></th><th scope=col>title</th><th scope=col>characteristics_ch1</th><th scope=col>characteristics_ch1.1</th><th scope=col>description</th></tr>\n",
              "\t<tr><th></th><th scope=col>&lt;chr&gt;</th><th scope=col>&lt;chr&gt;</th><th scope=col>&lt;chr&gt;</th><th scope=col>&lt;chr&gt;</th></tr>\n",
              "</thead>\n",
              "<tbody>\n",
              "\t<tr><th scope=row>GSM5574685</th><td>tumor rep1</td><td>tissue: breast tumor</td><td>metastasis: yes</td><td>CA.102548 </td></tr>\n",
              "\t<tr><th scope=row>GSM5574686</th><td>tumor rep2</td><td>tissue: breast tumor</td><td>metastasis: yes</td><td>CA.104338 </td></tr>\n",
              "\t<tr><th scope=row>GSM5574687</th><td>tumor rep3</td><td>tissue: breast tumor</td><td>metastasis: yes</td><td>CA.105094 </td></tr>\n",
              "\t<tr><th scope=row>GSM5574688</th><td>tumor rep4</td><td>tissue: breast tumor</td><td>metastasis: no </td><td>CA.109745 </td></tr>\n",
              "\t<tr><th scope=row>GSM5574689</th><td>tumor rep5</td><td>tissue: breast tumor</td><td>metastasis: no </td><td>CA.1906415</td></tr>\n",
              "\t<tr><th scope=row>GSM5574690</th><td>tumor rep6</td><td>tissue: breast tumor</td><td>metastasis: yes</td><td>CA.1912627</td></tr>\n",
              "</tbody>\n",
              "</table>\n"
            ],
            "text/markdown": "\nA data.frame: 6 × 4\n\n| <!--/--> | title &lt;chr&gt; | characteristics_ch1 &lt;chr&gt; | characteristics_ch1.1 &lt;chr&gt; | description &lt;chr&gt; |\n|---|---|---|---|---|\n| GSM5574685 | tumor rep1 | tissue: breast tumor | metastasis: yes | CA.102548  |\n| GSM5574686 | tumor rep2 | tissue: breast tumor | metastasis: yes | CA.104338  |\n| GSM5574687 | tumor rep3 | tissue: breast tumor | metastasis: yes | CA.105094  |\n| GSM5574688 | tumor rep4 | tissue: breast tumor | metastasis: no  | CA.109745  |\n| GSM5574689 | tumor rep5 | tissue: breast tumor | metastasis: no  | CA.1906415 |\n| GSM5574690 | tumor rep6 | tissue: breast tumor | metastasis: yes | CA.1912627 |\n\n",
            "text/latex": "A data.frame: 6 × 4\n\\begin{tabular}{r|llll}\n  & title & characteristics\\_ch1 & characteristics\\_ch1.1 & description\\\\\n  & <chr> & <chr> & <chr> & <chr>\\\\\n\\hline\n\tGSM5574685 & tumor rep1 & tissue: breast tumor & metastasis: yes & CA.102548 \\\\\n\tGSM5574686 & tumor rep2 & tissue: breast tumor & metastasis: yes & CA.104338 \\\\\n\tGSM5574687 & tumor rep3 & tissue: breast tumor & metastasis: yes & CA.105094 \\\\\n\tGSM5574688 & tumor rep4 & tissue: breast tumor & metastasis: no  & CA.109745 \\\\\n\tGSM5574689 & tumor rep5 & tissue: breast tumor & metastasis: no  & CA.1906415\\\\\n\tGSM5574690 & tumor rep6 & tissue: breast tumor & metastasis: yes & CA.1912627\\\\\n\\end{tabular}\n",
            "text/plain": [
              "           title      characteristics_ch1  characteristics_ch1.1 description\n",
              "GSM5574685 tumor rep1 tissue: breast tumor metastasis: yes       CA.102548  \n",
              "GSM5574686 tumor rep2 tissue: breast tumor metastasis: yes       CA.104338  \n",
              "GSM5574687 tumor rep3 tissue: breast tumor metastasis: yes       CA.105094  \n",
              "GSM5574688 tumor rep4 tissue: breast tumor metastasis: no        CA.109745  \n",
              "GSM5574689 tumor rep5 tissue: breast tumor metastasis: no        CA.1906415 \n",
              "GSM5574690 tumor rep6 tissue: breast tumor metastasis: yes       CA.1912627 "
            ]
          },
          "metadata": {}
        }
      ]
    },
    {
      "cell_type": "code",
      "source": [
        "# select, mutate, rename ------------\n",
        "# we are subsetting the data and also renaming it\n",
        "metadata.modified <- metadata %>%\n",
        "  select(1,10,11,17) %>%\n",
        "  rename(tissue = characteristics_ch1) %>%\n",
        "  rename(metastasis = characteristics_ch1.1) %>%\n",
        "  mutate(tissue = gsub(\"tissue: \", \"\", tissue)) %>%\n",
        "  mutate(metastasis = gsub(\"metastasis: \", \"\", metastasis))"
      ],
      "metadata": {
        "id": "SIwOJli8iUQ3"
      },
      "execution_count": null,
      "outputs": []
    },
    {
      "cell_type": "code",
      "source": [
        "head(metadata.modified)"
      ],
      "metadata": {
        "id": "ZFDi1qJyihS3",
        "outputId": "8454e56c-402c-4914-9d51-26edf072990f",
        "colab": {
          "base_uri": "https://localhost:8080/",
          "height": 286
        }
      },
      "execution_count": null,
      "outputs": [
        {
          "output_type": "display_data",
          "data": {
            "text/html": [
              "<table class=\"dataframe\">\n",
              "<caption>A data.frame: 6 × 4</caption>\n",
              "<thead>\n",
              "\t<tr><th></th><th scope=col>title</th><th scope=col>tissue</th><th scope=col>metastasis</th><th scope=col>description</th></tr>\n",
              "\t<tr><th></th><th scope=col>&lt;chr&gt;</th><th scope=col>&lt;chr&gt;</th><th scope=col>&lt;chr&gt;</th><th scope=col>&lt;chr&gt;</th></tr>\n",
              "</thead>\n",
              "<tbody>\n",
              "\t<tr><th scope=row>GSM5574685</th><td>tumor rep1</td><td>breast tumor</td><td>yes</td><td>CA.102548 </td></tr>\n",
              "\t<tr><th scope=row>GSM5574686</th><td>tumor rep2</td><td>breast tumor</td><td>yes</td><td>CA.104338 </td></tr>\n",
              "\t<tr><th scope=row>GSM5574687</th><td>tumor rep3</td><td>breast tumor</td><td>yes</td><td>CA.105094 </td></tr>\n",
              "\t<tr><th scope=row>GSM5574688</th><td>tumor rep4</td><td>breast tumor</td><td>no </td><td>CA.109745 </td></tr>\n",
              "\t<tr><th scope=row>GSM5574689</th><td>tumor rep5</td><td>breast tumor</td><td>no </td><td>CA.1906415</td></tr>\n",
              "\t<tr><th scope=row>GSM5574690</th><td>tumor rep6</td><td>breast tumor</td><td>yes</td><td>CA.1912627</td></tr>\n",
              "</tbody>\n",
              "</table>\n"
            ],
            "text/markdown": "\nA data.frame: 6 × 4\n\n| <!--/--> | title &lt;chr&gt; | tissue &lt;chr&gt; | metastasis &lt;chr&gt; | description &lt;chr&gt; |\n|---|---|---|---|---|\n| GSM5574685 | tumor rep1 | breast tumor | yes | CA.102548  |\n| GSM5574686 | tumor rep2 | breast tumor | yes | CA.104338  |\n| GSM5574687 | tumor rep3 | breast tumor | yes | CA.105094  |\n| GSM5574688 | tumor rep4 | breast tumor | no  | CA.109745  |\n| GSM5574689 | tumor rep5 | breast tumor | no  | CA.1906415 |\n| GSM5574690 | tumor rep6 | breast tumor | yes | CA.1912627 |\n\n",
            "text/latex": "A data.frame: 6 × 4\n\\begin{tabular}{r|llll}\n  & title & tissue & metastasis & description\\\\\n  & <chr> & <chr> & <chr> & <chr>\\\\\n\\hline\n\tGSM5574685 & tumor rep1 & breast tumor & yes & CA.102548 \\\\\n\tGSM5574686 & tumor rep2 & breast tumor & yes & CA.104338 \\\\\n\tGSM5574687 & tumor rep3 & breast tumor & yes & CA.105094 \\\\\n\tGSM5574688 & tumor rep4 & breast tumor & no  & CA.109745 \\\\\n\tGSM5574689 & tumor rep5 & breast tumor & no  & CA.1906415\\\\\n\tGSM5574690 & tumor rep6 & breast tumor & yes & CA.1912627\\\\\n\\end{tabular}\n",
            "text/plain": [
              "           title      tissue       metastasis description\n",
              "GSM5574685 tumor rep1 breast tumor yes        CA.102548  \n",
              "GSM5574686 tumor rep2 breast tumor yes        CA.104338  \n",
              "GSM5574687 tumor rep3 breast tumor yes        CA.105094  \n",
              "GSM5574688 tumor rep4 breast tumor no         CA.109745  \n",
              "GSM5574689 tumor rep5 breast tumor no         CA.1906415 \n",
              "GSM5574690 tumor rep6 breast tumor yes        CA.1912627 "
            ]
          },
          "metadata": {}
        }
      ]
    },
    {
      "cell_type": "code",
      "source": [
        "# looking at gene expression data ---------\n",
        "# As you can see the rows of metadata is the columns of dat data. Thus we would need to re-shape it. \n",
        "head(dat)"
      ],
      "metadata": {
        "id": "bqHhAQZKinzM",
        "outputId": "8b2396ff-2b5f-4056-b9b3-906f0376f0e4",
        "colab": {
          "base_uri": "https://localhost:8080/",
          "height": 306
        }
      },
      "execution_count": null,
      "outputs": [
        {
          "output_type": "display_data",
          "data": {
            "text/html": [
              "<table class=\"dataframe\">\n",
              "<caption>A data.frame: 6 × 61</caption>\n",
              "<thead>\n",
              "\t<tr><th></th><th scope=col>X</th><th scope=col>CA.102548</th><th scope=col>CA.104338</th><th scope=col>CA.105094</th><th scope=col>CA.109745</th><th scope=col>CA.1906415</th><th scope=col>CA.1912627</th><th scope=col>CA.1924346</th><th scope=col>CA.1926760</th><th scope=col>CA.1927842</th><th scope=col>⋯</th><th scope=col>CAP.2040686</th><th scope=col>CAP.2046297</th><th scope=col>CAP.2046641</th><th scope=col>CAP.348981</th><th scope=col>CAP.354300</th><th scope=col>CAP.359448</th><th scope=col>CAP.94377</th><th scope=col>CAP.98389</th><th scope=col>CAP.98475</th><th scope=col>CAP.99145</th></tr>\n",
              "\t<tr><th></th><th scope=col>&lt;chr&gt;</th><th scope=col>&lt;dbl&gt;</th><th scope=col>&lt;dbl&gt;</th><th scope=col>&lt;dbl&gt;</th><th scope=col>&lt;dbl&gt;</th><th scope=col>&lt;dbl&gt;</th><th scope=col>&lt;dbl&gt;</th><th scope=col>&lt;dbl&gt;</th><th scope=col>&lt;dbl&gt;</th><th scope=col>&lt;dbl&gt;</th><th scope=col>⋯</th><th scope=col>&lt;dbl&gt;</th><th scope=col>&lt;dbl&gt;</th><th scope=col>&lt;dbl&gt;</th><th scope=col>&lt;dbl&gt;</th><th scope=col>&lt;dbl&gt;</th><th scope=col>&lt;dbl&gt;</th><th scope=col>&lt;dbl&gt;</th><th scope=col>&lt;dbl&gt;</th><th scope=col>&lt;dbl&gt;</th><th scope=col>&lt;dbl&gt;</th></tr>\n",
              "</thead>\n",
              "<tbody>\n",
              "\t<tr><th scope=row>1</th><td>TSPAN6  </td><td>0.93</td><td>1.97</td><td>0.00</td><td>5.45</td><td> 4.52</td><td> 4.75</td><td> 3.96</td><td> 3.58</td><td>6.41</td><td>⋯</td><td>6.66</td><td>8.35</td><td> 8.94</td><td> 6.33</td><td>5.94</td><td> 6.35</td><td> 3.74</td><td>4.84</td><td>10.46</td><td> 4.54</td></tr>\n",
              "\t<tr><th scope=row>2</th><td>TNMD    </td><td>0.00</td><td>0.00</td><td>0.00</td><td>0.00</td><td> 0.00</td><td> 0.00</td><td> 0.00</td><td> 0.23</td><td>0.39</td><td>⋯</td><td>0.12</td><td>0.17</td><td> 1.08</td><td> 0.29</td><td>0.00</td><td> 0.07</td><td> 9.19</td><td>1.18</td><td> 0.09</td><td> 0.39</td></tr>\n",
              "\t<tr><th scope=row>3</th><td>DPM1    </td><td>0.00</td><td>0.43</td><td>0.00</td><td>3.43</td><td> 8.45</td><td> 8.53</td><td> 7.80</td><td> 7.62</td><td>6.40</td><td>⋯</td><td>4.93</td><td>7.47</td><td> 5.72</td><td> 4.96</td><td>9.28</td><td> 9.15</td><td> 4.77</td><td>3.75</td><td> 7.31</td><td> 2.77</td></tr>\n",
              "\t<tr><th scope=row>4</th><td>SCYL3   </td><td>5.78</td><td>5.17</td><td>8.76</td><td>4.58</td><td> 7.20</td><td> 6.03</td><td> 9.05</td><td> 5.37</td><td>5.92</td><td>⋯</td><td>8.02</td><td>6.00</td><td> 5.28</td><td> 4.98</td><td>4.45</td><td> 7.00</td><td> 4.14</td><td>5.51</td><td> 7.45</td><td> 2.33</td></tr>\n",
              "\t<tr><th scope=row>5</th><td>C1orf112</td><td>2.83</td><td>6.26</td><td>3.37</td><td>6.24</td><td> 5.16</td><td>13.69</td><td> 6.69</td><td> 5.28</td><td>7.65</td><td>⋯</td><td>7.91</td><td>4.61</td><td> 8.35</td><td> 9.84</td><td>7.68</td><td> 5.62</td><td> 2.81</td><td>7.08</td><td> 7.28</td><td> 5.39</td></tr>\n",
              "\t<tr><th scope=row>6</th><td>FGR     </td><td>4.80</td><td>1.83</td><td>0.00</td><td>4.23</td><td>15.87</td><td> 8.56</td><td>13.28</td><td>12.27</td><td>5.58</td><td>⋯</td><td>6.99</td><td>6.16</td><td>13.27</td><td>19.33</td><td>2.89</td><td>40.13</td><td>10.53</td><td>9.00</td><td> 4.45</td><td>11.42</td></tr>\n",
              "</tbody>\n",
              "</table>\n"
            ],
            "text/markdown": "\nA data.frame: 6 × 61\n\n| <!--/--> | X &lt;chr&gt; | CA.102548 &lt;dbl&gt; | CA.104338 &lt;dbl&gt; | CA.105094 &lt;dbl&gt; | CA.109745 &lt;dbl&gt; | CA.1906415 &lt;dbl&gt; | CA.1912627 &lt;dbl&gt; | CA.1924346 &lt;dbl&gt; | CA.1926760 &lt;dbl&gt; | CA.1927842 &lt;dbl&gt; | ⋯ ⋯ | CAP.2040686 &lt;dbl&gt; | CAP.2046297 &lt;dbl&gt; | CAP.2046641 &lt;dbl&gt; | CAP.348981 &lt;dbl&gt; | CAP.354300 &lt;dbl&gt; | CAP.359448 &lt;dbl&gt; | CAP.94377 &lt;dbl&gt; | CAP.98389 &lt;dbl&gt; | CAP.98475 &lt;dbl&gt; | CAP.99145 &lt;dbl&gt; |\n|---|---|---|---|---|---|---|---|---|---|---|---|---|---|---|---|---|---|---|---|---|---|\n| 1 | TSPAN6   | 0.93 | 1.97 | 0.00 | 5.45 |  4.52 |  4.75 |  3.96 |  3.58 | 6.41 | ⋯ | 6.66 | 8.35 |  8.94 |  6.33 | 5.94 |  6.35 |  3.74 | 4.84 | 10.46 |  4.54 |\n| 2 | TNMD     | 0.00 | 0.00 | 0.00 | 0.00 |  0.00 |  0.00 |  0.00 |  0.23 | 0.39 | ⋯ | 0.12 | 0.17 |  1.08 |  0.29 | 0.00 |  0.07 |  9.19 | 1.18 |  0.09 |  0.39 |\n| 3 | DPM1     | 0.00 | 0.43 | 0.00 | 3.43 |  8.45 |  8.53 |  7.80 |  7.62 | 6.40 | ⋯ | 4.93 | 7.47 |  5.72 |  4.96 | 9.28 |  9.15 |  4.77 | 3.75 |  7.31 |  2.77 |\n| 4 | SCYL3    | 5.78 | 5.17 | 8.76 | 4.58 |  7.20 |  6.03 |  9.05 |  5.37 | 5.92 | ⋯ | 8.02 | 6.00 |  5.28 |  4.98 | 4.45 |  7.00 |  4.14 | 5.51 |  7.45 |  2.33 |\n| 5 | C1orf112 | 2.83 | 6.26 | 3.37 | 6.24 |  5.16 | 13.69 |  6.69 |  5.28 | 7.65 | ⋯ | 7.91 | 4.61 |  8.35 |  9.84 | 7.68 |  5.62 |  2.81 | 7.08 |  7.28 |  5.39 |\n| 6 | FGR      | 4.80 | 1.83 | 0.00 | 4.23 | 15.87 |  8.56 | 13.28 | 12.27 | 5.58 | ⋯ | 6.99 | 6.16 | 13.27 | 19.33 | 2.89 | 40.13 | 10.53 | 9.00 |  4.45 | 11.42 |\n\n",
            "text/latex": "A data.frame: 6 × 61\n\\begin{tabular}{r|lllllllllllllllllllll}\n  & X & CA.102548 & CA.104338 & CA.105094 & CA.109745 & CA.1906415 & CA.1912627 & CA.1924346 & CA.1926760 & CA.1927842 & ⋯ & CAP.2040686 & CAP.2046297 & CAP.2046641 & CAP.348981 & CAP.354300 & CAP.359448 & CAP.94377 & CAP.98389 & CAP.98475 & CAP.99145\\\\\n  & <chr> & <dbl> & <dbl> & <dbl> & <dbl> & <dbl> & <dbl> & <dbl> & <dbl> & <dbl> & ⋯ & <dbl> & <dbl> & <dbl> & <dbl> & <dbl> & <dbl> & <dbl> & <dbl> & <dbl> & <dbl>\\\\\n\\hline\n\t1 & TSPAN6   & 0.93 & 1.97 & 0.00 & 5.45 &  4.52 &  4.75 &  3.96 &  3.58 & 6.41 & ⋯ & 6.66 & 8.35 &  8.94 &  6.33 & 5.94 &  6.35 &  3.74 & 4.84 & 10.46 &  4.54\\\\\n\t2 & TNMD     & 0.00 & 0.00 & 0.00 & 0.00 &  0.00 &  0.00 &  0.00 &  0.23 & 0.39 & ⋯ & 0.12 & 0.17 &  1.08 &  0.29 & 0.00 &  0.07 &  9.19 & 1.18 &  0.09 &  0.39\\\\\n\t3 & DPM1     & 0.00 & 0.43 & 0.00 & 3.43 &  8.45 &  8.53 &  7.80 &  7.62 & 6.40 & ⋯ & 4.93 & 7.47 &  5.72 &  4.96 & 9.28 &  9.15 &  4.77 & 3.75 &  7.31 &  2.77\\\\\n\t4 & SCYL3    & 5.78 & 5.17 & 8.76 & 4.58 &  7.20 &  6.03 &  9.05 &  5.37 & 5.92 & ⋯ & 8.02 & 6.00 &  5.28 &  4.98 & 4.45 &  7.00 &  4.14 & 5.51 &  7.45 &  2.33\\\\\n\t5 & C1orf112 & 2.83 & 6.26 & 3.37 & 6.24 &  5.16 & 13.69 &  6.69 &  5.28 & 7.65 & ⋯ & 7.91 & 4.61 &  8.35 &  9.84 & 7.68 &  5.62 &  2.81 & 7.08 &  7.28 &  5.39\\\\\n\t6 & FGR      & 4.80 & 1.83 & 0.00 & 4.23 & 15.87 &  8.56 & 13.28 & 12.27 & 5.58 & ⋯ & 6.99 & 6.16 & 13.27 & 19.33 & 2.89 & 40.13 & 10.53 & 9.00 &  4.45 & 11.42\\\\\n\\end{tabular}\n",
            "text/plain": [
              "  X        CA.102548 CA.104338 CA.105094 CA.109745 CA.1906415 CA.1912627\n",
              "1 TSPAN6   0.93      1.97      0.00      5.45       4.52       4.75     \n",
              "2 TNMD     0.00      0.00      0.00      0.00       0.00       0.00     \n",
              "3 DPM1     0.00      0.43      0.00      3.43       8.45       8.53     \n",
              "4 SCYL3    5.78      5.17      8.76      4.58       7.20       6.03     \n",
              "5 C1orf112 2.83      6.26      3.37      6.24       5.16      13.69     \n",
              "6 FGR      4.80      1.83      0.00      4.23      15.87       8.56     \n",
              "  CA.1924346 CA.1926760 CA.1927842 ⋯ CAP.2040686 CAP.2046297 CAP.2046641\n",
              "1  3.96       3.58      6.41       ⋯ 6.66        8.35         8.94      \n",
              "2  0.00       0.23      0.39       ⋯ 0.12        0.17         1.08      \n",
              "3  7.80       7.62      6.40       ⋯ 4.93        7.47         5.72      \n",
              "4  9.05       5.37      5.92       ⋯ 8.02        6.00         5.28      \n",
              "5  6.69       5.28      7.65       ⋯ 7.91        4.61         8.35      \n",
              "6 13.28      12.27      5.58       ⋯ 6.99        6.16        13.27      \n",
              "  CAP.348981 CAP.354300 CAP.359448 CAP.94377 CAP.98389 CAP.98475 CAP.99145\n",
              "1  6.33      5.94        6.35       3.74     4.84      10.46      4.54    \n",
              "2  0.29      0.00        0.07       9.19     1.18       0.09      0.39    \n",
              "3  4.96      9.28        9.15       4.77     3.75       7.31      2.77    \n",
              "4  4.98      4.45        7.00       4.14     5.51       7.45      2.33    \n",
              "5  9.84      7.68        5.62       2.81     7.08       7.28      5.39    \n",
              "6 19.33      2.89       40.13      10.53     9.00       4.45     11.42    "
            ]
          },
          "metadata": {}
        }
      ]
    },
    {
      "cell_type": "code",
      "source": [
        "# reshaping data - from wide to long--------\n",
        "\n",
        "dat.long <- dat %>%\n",
        "  rename(gene = X) %>% # renaming from X column to gene\n",
        "  gather(key = 'samples', value = 'FPKM', -gene) # gather converts wide format to long format\n",
        "  #-gene we are excluding gene column as we don't want to touch it\n",
        "  head(dat.long)"
      ],
      "metadata": {
        "id": "BHsfm_Mai4e3",
        "outputId": "99d1040a-3264-4a03-e660-749a90e1adde",
        "colab": {
          "base_uri": "https://localhost:8080/",
          "height": 286
        }
      },
      "execution_count": null,
      "outputs": [
        {
          "output_type": "display_data",
          "data": {
            "text/html": [
              "<table class=\"dataframe\">\n",
              "<caption>A data.frame: 6 × 3</caption>\n",
              "<thead>\n",
              "\t<tr><th></th><th scope=col>gene</th><th scope=col>samples</th><th scope=col>FPKM</th></tr>\n",
              "\t<tr><th></th><th scope=col>&lt;chr&gt;</th><th scope=col>&lt;chr&gt;</th><th scope=col>&lt;dbl&gt;</th></tr>\n",
              "</thead>\n",
              "<tbody>\n",
              "\t<tr><th scope=row>1</th><td>TSPAN6  </td><td>CA.102548</td><td>0.93</td></tr>\n",
              "\t<tr><th scope=row>2</th><td>TNMD    </td><td>CA.102548</td><td>0.00</td></tr>\n",
              "\t<tr><th scope=row>3</th><td>DPM1    </td><td>CA.102548</td><td>0.00</td></tr>\n",
              "\t<tr><th scope=row>4</th><td>SCYL3   </td><td>CA.102548</td><td>5.78</td></tr>\n",
              "\t<tr><th scope=row>5</th><td>C1orf112</td><td>CA.102548</td><td>2.83</td></tr>\n",
              "\t<tr><th scope=row>6</th><td>FGR     </td><td>CA.102548</td><td>4.80</td></tr>\n",
              "</tbody>\n",
              "</table>\n"
            ],
            "text/markdown": "\nA data.frame: 6 × 3\n\n| <!--/--> | gene &lt;chr&gt; | samples &lt;chr&gt; | FPKM &lt;dbl&gt; |\n|---|---|---|---|\n| 1 | TSPAN6   | CA.102548 | 0.93 |\n| 2 | TNMD     | CA.102548 | 0.00 |\n| 3 | DPM1     | CA.102548 | 0.00 |\n| 4 | SCYL3    | CA.102548 | 5.78 |\n| 5 | C1orf112 | CA.102548 | 2.83 |\n| 6 | FGR      | CA.102548 | 4.80 |\n\n",
            "text/latex": "A data.frame: 6 × 3\n\\begin{tabular}{r|lll}\n  & gene & samples & FPKM\\\\\n  & <chr> & <chr> & <dbl>\\\\\n\\hline\n\t1 & TSPAN6   & CA.102548 & 0.93\\\\\n\t2 & TNMD     & CA.102548 & 0.00\\\\\n\t3 & DPM1     & CA.102548 & 0.00\\\\\n\t4 & SCYL3    & CA.102548 & 5.78\\\\\n\t5 & C1orf112 & CA.102548 & 2.83\\\\\n\t6 & FGR      & CA.102548 & 4.80\\\\\n\\end{tabular}\n",
            "text/plain": [
              "  gene     samples   FPKM\n",
              "1 TSPAN6   CA.102548 0.93\n",
              "2 TNMD     CA.102548 0.00\n",
              "3 DPM1     CA.102548 0.00\n",
              "4 SCYL3    CA.102548 5.78\n",
              "5 C1orf112 CA.102548 2.83\n",
              "6 FGR      CA.102548 4.80"
            ]
          },
          "metadata": {}
        }
      ]
    },
    {
      "cell_type": "code",
      "source": [
        "dat.long <- dat.long %>%\n",
        "  left_join(., metadata.modified, by = c(\"samples\" = \"description\")) \n",
        "  head(dat.long)"
      ],
      "metadata": {
        "id": "EBwXwLzEjkfh",
        "outputId": "4aa3ac10-94d5-46e7-a2b9-984a89ea55c3",
        "colab": {
          "base_uri": "https://localhost:8080/",
          "height": 286
        }
      },
      "execution_count": null,
      "outputs": [
        {
          "output_type": "display_data",
          "data": {
            "text/html": [
              "<table class=\"dataframe\">\n",
              "<caption>A data.frame: 6 × 6</caption>\n",
              "<thead>\n",
              "\t<tr><th></th><th scope=col>gene</th><th scope=col>samples</th><th scope=col>FPKM</th><th scope=col>title</th><th scope=col>tissue</th><th scope=col>metastasis</th></tr>\n",
              "\t<tr><th></th><th scope=col>&lt;chr&gt;</th><th scope=col>&lt;chr&gt;</th><th scope=col>&lt;dbl&gt;</th><th scope=col>&lt;chr&gt;</th><th scope=col>&lt;chr&gt;</th><th scope=col>&lt;chr&gt;</th></tr>\n",
              "</thead>\n",
              "<tbody>\n",
              "\t<tr><th scope=row>1</th><td>TSPAN6  </td><td>CA.102548</td><td>0.93</td><td>tumor rep1</td><td>breast tumor</td><td>yes</td></tr>\n",
              "\t<tr><th scope=row>2</th><td>TNMD    </td><td>CA.102548</td><td>0.00</td><td>tumor rep1</td><td>breast tumor</td><td>yes</td></tr>\n",
              "\t<tr><th scope=row>3</th><td>DPM1    </td><td>CA.102548</td><td>0.00</td><td>tumor rep1</td><td>breast tumor</td><td>yes</td></tr>\n",
              "\t<tr><th scope=row>4</th><td>SCYL3   </td><td>CA.102548</td><td>5.78</td><td>tumor rep1</td><td>breast tumor</td><td>yes</td></tr>\n",
              "\t<tr><th scope=row>5</th><td>C1orf112</td><td>CA.102548</td><td>2.83</td><td>tumor rep1</td><td>breast tumor</td><td>yes</td></tr>\n",
              "\t<tr><th scope=row>6</th><td>FGR     </td><td>CA.102548</td><td>4.80</td><td>tumor rep1</td><td>breast tumor</td><td>yes</td></tr>\n",
              "</tbody>\n",
              "</table>\n"
            ],
            "text/markdown": "\nA data.frame: 6 × 6\n\n| <!--/--> | gene &lt;chr&gt; | samples &lt;chr&gt; | FPKM &lt;dbl&gt; | title &lt;chr&gt; | tissue &lt;chr&gt; | metastasis &lt;chr&gt; |\n|---|---|---|---|---|---|---|\n| 1 | TSPAN6   | CA.102548 | 0.93 | tumor rep1 | breast tumor | yes |\n| 2 | TNMD     | CA.102548 | 0.00 | tumor rep1 | breast tumor | yes |\n| 3 | DPM1     | CA.102548 | 0.00 | tumor rep1 | breast tumor | yes |\n| 4 | SCYL3    | CA.102548 | 5.78 | tumor rep1 | breast tumor | yes |\n| 5 | C1orf112 | CA.102548 | 2.83 | tumor rep1 | breast tumor | yes |\n| 6 | FGR      | CA.102548 | 4.80 | tumor rep1 | breast tumor | yes |\n\n",
            "text/latex": "A data.frame: 6 × 6\n\\begin{tabular}{r|llllll}\n  & gene & samples & FPKM & title & tissue & metastasis\\\\\n  & <chr> & <chr> & <dbl> & <chr> & <chr> & <chr>\\\\\n\\hline\n\t1 & TSPAN6   & CA.102548 & 0.93 & tumor rep1 & breast tumor & yes\\\\\n\t2 & TNMD     & CA.102548 & 0.00 & tumor rep1 & breast tumor & yes\\\\\n\t3 & DPM1     & CA.102548 & 0.00 & tumor rep1 & breast tumor & yes\\\\\n\t4 & SCYL3    & CA.102548 & 5.78 & tumor rep1 & breast tumor & yes\\\\\n\t5 & C1orf112 & CA.102548 & 2.83 & tumor rep1 & breast tumor & yes\\\\\n\t6 & FGR      & CA.102548 & 4.80 & tumor rep1 & breast tumor & yes\\\\\n\\end{tabular}\n",
            "text/plain": [
              "  gene     samples   FPKM title      tissue       metastasis\n",
              "1 TSPAN6   CA.102548 0.93 tumor rep1 breast tumor yes       \n",
              "2 TNMD     CA.102548 0.00 tumor rep1 breast tumor yes       \n",
              "3 DPM1     CA.102548 0.00 tumor rep1 breast tumor yes       \n",
              "4 SCYL3    CA.102548 5.78 tumor rep1 breast tumor yes       \n",
              "5 C1orf112 CA.102548 2.83 tumor rep1 breast tumor yes       \n",
              "6 FGR      CA.102548 4.80 tumor rep1 breast tumor yes       "
            ]
          },
          "metadata": {}
        }
      ]
    },
    {
      "cell_type": "code",
      "source": [
        "# explore data ------\n",
        "# filter, group_by, summarize and arrange \n",
        "dat.long %>%\n",
        "  filter(gene == 'BRCA1' | gene == 'BRCA2') %>%\n",
        "  group_by(gene, tissue) %>% # So if gene is getting repeated, we will take a mean of all of them \n",
        "  summarize(mean_FPKM = mean(FPKM),\n",
        "            median_FPKM = median(FPKM)) %>%\n",
        "  arrange(-mean_FPKM)\n",
        "  "
      ],
      "metadata": {
        "id": "8Xh4IdwujpzI",
        "outputId": "09a16ef5-6a30-4ee5-a572-4e265aca9dbd",
        "colab": {
          "base_uri": "https://localhost:8080/",
          "height": 259
        }
      },
      "execution_count": null,
      "outputs": [
        {
          "output_type": "stream",
          "name": "stderr",
          "text": [
            "\u001b[1m\u001b[22m`summarise()` has grouped output by 'gene'. You can override using the\n",
            "`.groups` argument.\n"
          ]
        },
        {
          "output_type": "display_data",
          "data": {
            "text/html": [
              "<table class=\"dataframe\">\n",
              "<caption>A grouped_df: 4 × 4</caption>\n",
              "<thead>\n",
              "\t<tr><th scope=col>gene</th><th scope=col>tissue</th><th scope=col>mean_FPKM</th><th scope=col>median_FPKM</th></tr>\n",
              "\t<tr><th scope=col>&lt;chr&gt;</th><th scope=col>&lt;chr&gt;</th><th scope=col>&lt;dbl&gt;</th><th scope=col>&lt;dbl&gt;</th></tr>\n",
              "</thead>\n",
              "<tbody>\n",
              "\t<tr><td>BRCA1</td><td>breast tumor        </td><td>10.042333</td><td>6.965</td></tr>\n",
              "\t<tr><td>BRCA1</td><td>normal breast tissue</td><td> 7.698667</td><td>6.450</td></tr>\n",
              "\t<tr><td>BRCA2</td><td>normal breast tissue</td><td> 3.047333</td><td>1.250</td></tr>\n",
              "\t<tr><td>BRCA2</td><td>breast tumor        </td><td> 2.044000</td><td>1.600</td></tr>\n",
              "</tbody>\n",
              "</table>\n"
            ],
            "text/markdown": "\nA grouped_df: 4 × 4\n\n| gene &lt;chr&gt; | tissue &lt;chr&gt; | mean_FPKM &lt;dbl&gt; | median_FPKM &lt;dbl&gt; |\n|---|---|---|---|\n| BRCA1 | breast tumor         | 10.042333 | 6.965 |\n| BRCA1 | normal breast tissue |  7.698667 | 6.450 |\n| BRCA2 | normal breast tissue |  3.047333 | 1.250 |\n| BRCA2 | breast tumor         |  2.044000 | 1.600 |\n\n",
            "text/latex": "A grouped\\_df: 4 × 4\n\\begin{tabular}{llll}\n gene & tissue & mean\\_FPKM & median\\_FPKM\\\\\n <chr> & <chr> & <dbl> & <dbl>\\\\\n\\hline\n\t BRCA1 & breast tumor         & 10.042333 & 6.965\\\\\n\t BRCA1 & normal breast tissue &  7.698667 & 6.450\\\\\n\t BRCA2 & normal breast tissue &  3.047333 & 1.250\\\\\n\t BRCA2 & breast tumor         &  2.044000 & 1.600\\\\\n\\end{tabular}\n",
            "text/plain": [
              "  gene  tissue               mean_FPKM median_FPKM\n",
              "1 BRCA1 breast tumor         10.042333 6.965      \n",
              "2 BRCA1 normal breast tissue  7.698667 6.450      \n",
              "3 BRCA2 normal breast tissue  3.047333 1.250      \n",
              "4 BRCA2 breast tumor          2.044000 1.600      "
            ]
          },
          "metadata": {}
        }
      ]
    },
    {
      "cell_type": "markdown",
      "source": [
        "## Visualiza the Data"
      ],
      "metadata": {
        "id": "loH5mfVslcX7"
      }
    },
    {
      "cell_type": "code",
      "source": [
        "# 1. barplot\n",
        "dat.long %>%\n",
        "  filter(gene == 'BRCA1') %>%\n",
        "  ggplot(., aes(x = samples, y = FPKM, fill = tissue)) +\n",
        "  geom_col() \n",
        "  # X axis the gene we are intresred in, y is the FPKM normalized values and fill is, which types of tissues are it.\n",
        "  # As we can see BRAC1 is very much dominant in Breast cancer tissue for few patients vs other. \n"
      ],
      "metadata": {
        "id": "FOVI_24dlgc0",
        "outputId": "46e3f0b6-fe51-4d5e-d76e-f4c6dff9209e",
        "colab": {
          "base_uri": "https://localhost:8080/",
          "height": 437
        }
      },
      "execution_count": null,
      "outputs": [
        {
          "output_type": "display_data",
          "data": {
            "text/plain": [
              "plot without title"
            ],
            "image/png": "[encoded data removed]"
          },
          "metadata": {
            "image/png": {
              "width": 420,
              "height": 420
            }
          }
        }
      ]
    },
    {
      "cell_type": "code",
      "source": [
        "# 2. density\n",
        "dat.long %>%\n",
        "  filter(gene == 'BRCA1') %>%\n",
        "  ggplot(., aes(x = FPKM, fill = tissue)) +\n",
        "  geom_density(alpha = 0.3)\n",
        "\n",
        "  # As we can see, the Brac gene is little bit high in breast tumor "
      ],
      "metadata": {
        "id": "ntSgoNaVltd8",
        "outputId": "3ed595ed-4b93-479d-b069-86d46bda54e4",
        "colab": {
          "base_uri": "https://localhost:8080/",
          "height": 437
        }
      },
      "execution_count": null,
      "outputs": [
        {
          "output_type": "display_data",
          "data": {
            "text/plain": [
              "plot without title"
            ],
            "image/png": "[encoded data removed]"
          },
          "metadata": {
            "image/png": {
              "width": 420,
              "height": 420
            }
          }
        }
      ]
    },
    {
      "cell_type": "code",
      "source": [
        "# 3. boxplot \n",
        "dat.long %>%\n",
        "  filter(gene == 'BRCA1') %>%\n",
        "  ggplot(., aes(x = metastasis, y = FPKM)) +\n",
        "  #geom_boxplot()\n",
        "  geom_violin()\n",
        "\n",
        "  # BRAC is mestasis"
      ],
      "metadata": {
        "id": "WuA-Jb3ZmKKN",
        "outputId": "bf008a06-617d-4314-81b2-5a2d6489cedf",
        "colab": {
          "base_uri": "https://localhost:8080/",
          "height": 437
        }
      },
      "execution_count": null,
      "outputs": [
        {
          "output_type": "display_data",
          "data": {
            "text/plain": [
              "plot without title"
            ],
            "image/png": "[encoded data removed]"
          },
          "metadata": {
            "image/png": {
              "width": 420,
              "height": 420
            }
          }
        }
      ]
    },
    {
      "cell_type": "code",
      "source": [],
      "metadata": {
        "id": "fOIZGLQ8mVWB"
      },
      "execution_count": null,
      "outputs": []
    }
  ]
}